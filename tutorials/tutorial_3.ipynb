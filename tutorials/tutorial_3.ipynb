{
 "cells": [
  {
   "cell_type": "code",
   "execution_count": 1,
   "metadata": {
    "collapsed": true
   },
   "outputs": [],
   "source": [
    "from IPython.core.display import HTML"
   ]
  },
  {
   "cell_type": "code",
   "execution_count": 2,
   "metadata": {
    "collapsed": false
   },
   "outputs": [
    {
     "data": {
      "text/html": [
       "<iframe src='http://labrosa.ee.columbia.edu/millionsong/sites/default/files/tutorial4.pdf' width=1000 height=1000></iframe>"
      ],
      "text/plain": [
       "<IPython.core.display.HTML object>"
      ]
     },
     "execution_count": 2,
     "metadata": {},
     "output_type": "execute_result"
    }
   ],
   "source": [
    "url_src = \"http://labrosa.ee.columbia.edu/millionsong/sites/default/files/tutorial4.pdf\"\n",
    "HTML(\"<iframe src='%s' width=1000 height=1000></iframe>\"%url_src)"
   ]
  },
  {
   "cell_type": "code",
   "execution_count": 40,
   "metadata": {
    "collapsed": false
   },
   "outputs": [],
   "source": [
    "import os\n",
    "import sys\n",
    "import glob\n",
    "import time\n",
    "import datetime\n",
    "import numpy as np\n",
    "try:\n",
    "    import sqlite3\n",
    "except ImportError:\n",
    "    print ' you need sqlite3 installed to use this program'\n",
    "    sys.exit(0)\n",
    "    \n",
    "def encode_string(s):\n",
    "    \"\"\"\n",
    "    Simple utility function to make sure a string is proper\n",
    "    to be used in a SQLite query\n",
    "    (different than postgresql, no N to specify unicode)\n",
    "    EXAMPLE:\n",
    "      That's my boy! -> 'That''s my boy!'\n",
    "    \"\"\"\n",
    "    return \"'\" + s.replace(\"'\", \"''\") + \"'\""
   ]
  },
  {
   "cell_type": "code",
   "execution_count": 9,
   "metadata": {
    "collapsed": true
   },
   "outputs": [],
   "source": [
    "# PATH TO artist_term.db\n",
    "# CHANGE THIS TO YOUR LOCAL CONFIGURATION\n",
    "# IT SHOULD BE IN THE ADDITIONAL FILES\n",
    "# (you can use 'subset_artist_term.db')\n",
    "dbfile = '/media/1ADF-0E69/msong/MillionSongSubset/AdditionalFiles/subset_artist_term.db'"
   ]
  },
  {
   "cell_type": "code",
   "execution_count": 13,
   "metadata": {
    "collapsed": true
   },
   "outputs": [],
   "source": [
    "# connect to sqlite3 database\n",
    "conn = sqlite3.connect(dbfile)\n",
    "\n",
    "# from that connection get cursor to do queries\n",
    "c = conn.cursor()"
   ]
  },
  {
   "cell_type": "markdown",
   "metadata": {},
   "source": [
    "# List Tables in Schema/DB"
   ]
  },
  {
   "cell_type": "code",
   "execution_count": 11,
   "metadata": {
    "collapsed": false
   },
   "outputs": [
    {
     "name": "stdout",
     "output_type": "stream",
     "text": [
      "*************** GENERAL SQLITE DEMO ***************\n"
     ]
    }
   ],
   "source": [
    "### schema overview\n",
    "# we got 3 tables:\n",
    "# table1: name=artists #cols=1 (artist_id text)\n",
    "#      one row per artist, no duplicates, usually in alphabetical order\n",
    "# table2: name=terms   #cols=1 (term text)\n",
    "#      one row per term, no duplicates, usually alphabetical order\n",
    "# table3: name=artist_term #cols2 (artist_id text, term text)\n",
    "#      One row per pair artist_id/term, no duplicate pairs\n",
    "#      Entries in table3 are constrained by table1 and table2,\n",
    "# e.g. artist_id must exist in table1 before it can be used in table3\n",
    "# NOT ALL ARTISTS HAVE TERMS. They will still all be in table1, but\n",
    "# some artists are not in table3 at all\n",
    "\n",
    "print '*************** GENERAL SQLITE DEMO ***************'"
   ]
  },
  {
   "cell_type": "code",
   "execution_count": 14,
   "metadata": {
    "collapsed": false
   },
   "outputs": [
    {
     "name": "stdout",
     "output_type": "stream",
     "text": [
      "* tables contained in the SQLite file/database (there should be 3):\n"
     ]
    }
   ],
   "source": [
    "# list all tables in the dataset\n",
    "# not that sqlite does the actual job when we call fetchone() or fetchall()\n",
    "q = \"SELECT name FROM sqlite_master WHERE type='table' ORDER BY name\"\n",
    "res = c.execute(q)\n",
    "print \"* tables contained in the SQLite file/database (there should be 3):\""
   ]
  },
  {
   "cell_type": "code",
   "execution_count": 15,
   "metadata": {
    "collapsed": false
   },
   "outputs": [
    {
     "name": "stdout",
     "output_type": "stream",
     "text": [
      "[(u'artist_mbtag',), (u'artist_term',), (u'artists',), (u'mbtags',), (u'terms',)]\n"
     ]
    }
   ],
   "source": [
    "print res.fetchall()"
   ]
  },
  {
   "cell_type": "code",
   "execution_count": 16,
   "metadata": {
    "collapsed": false
   },
   "outputs": [
    {
     "name": "stdout",
     "output_type": "stream",
     "text": [
      "* indices in the database to make reads faster\n"
     ]
    }
   ],
   "source": [
    "# list all indices\n",
    "q = \"SELECT name FROM sqlite_master WHERE type='index' ORDER BY name\"\n",
    "res = c.execute(q)\n",
    "print \"* indices in the database to make reads faster\""
   ]
  },
  {
   "cell_type": "code",
   "execution_count": 17,
   "metadata": {
    "collapsed": false
   },
   "outputs": [
    {
     "name": "stdout",
     "output_type": "stream",
     "text": [
      "[(u'idx_artist_id_mbtag',), (u'idx_artist_id_term',), (u'idx_mbtag_artist_id',), (u'idx_term_artist_id',), (u'sqlite_autoindex_artists_1',), (u'sqlite_autoindex_mbtags_1',), (u'sqlite_autoindex_terms_1',)]\n"
     ]
    }
   ],
   "source": [
    "print res.fetchall()"
   ]
  },
  {
   "cell_type": "markdown",
   "metadata": {},
   "source": [
    "# List ARTISTS"
   ]
  },
  {
   "cell_type": "code",
   "execution_count": 18,
   "metadata": {
    "collapsed": false
   },
   "outputs": [
    {
     "name": "stdout",
     "output_type": "stream",
     "text": [
      "*************** ARTISTS TABLE DEMO ****************************\n"
     ]
    }
   ],
   "source": [
    "print \"*************** ARTISTS TABLE DEMO ****************************\""
   ]
  },
  {
   "cell_type": "code",
   "execution_count": 19,
   "metadata": {
    "collapsed": false
   },
   "outputs": [
    {
     "name": "stdout",
     "output_type": "stream",
     "text": [
      "* list all known artists in the database (display the first 3)\n"
     ]
    }
   ],
   "source": [
    "# list all artists\n",
    "q = \"SELECT * FROM artists\"\n",
    "res = c.execute(q)\n",
    "print \"* list all known artists in the database (display the first 3)\""
   ]
  },
  {
   "cell_type": "code",
   "execution_count": 20,
   "metadata": {
    "collapsed": false
   },
   "outputs": [
    {
     "name": "stdout",
     "output_type": "stream",
     "text": [
      "[(u'AR009211187B989185',), (u'AR00A6H1187FB5402A',), (u'AR00LNI1187FB444A5',)]\n"
     ]
    }
   ],
   "source": [
    "print res.fetchall()[:3]"
   ]
  },
  {
   "cell_type": "code",
   "execution_count": 21,
   "metadata": {
    "collapsed": false
   },
   "outputs": [
    {
     "name": "stdout",
     "output_type": "stream",
     "text": [
      "* list all artists whose ID starts with ARB (we only ask for the first 2\n"
     ]
    }
   ],
   "source": [
    "# list all artists that id starts with ARB\n",
    "q = \"SELECT artist_id FROM artists WHERE SUBSTR(artist_id, 1, 3)='ARB' LIMIT 2\"\n",
    "res = c.execute(q)\n",
    "print \"* list all artists whose ID starts with ARB (we only ask for the first 2\""
   ]
  },
  {
   "cell_type": "code",
   "execution_count": 22,
   "metadata": {
    "collapsed": false
   },
   "outputs": [
    {
     "name": "stdout",
     "output_type": "stream",
     "text": [
      "[(u'ARB054P1187B9AD32E',), (u'ARB06Z71187B99049A',)]\n"
     ]
    }
   ],
   "source": [
    "print res.fetchall()"
   ]
  },
  {
   "cell_type": "markdown",
   "metadata": {},
   "source": [
    "# Count all Artists in the Artists Table"
   ]
  },
  {
   "cell_type": "code",
   "execution_count": 23,
   "metadata": {
    "collapsed": false
   },
   "outputs": [
    {
     "name": "stdout",
     "output_type": "stream",
     "text": [
      "* count the number of artists (with or without tags):\n"
     ]
    }
   ],
   "source": [
    "# count all artists\n",
    "q = \"SELECT COUNT(artist_id) FROM artists\"\n",
    "res = c.execute(q)\n",
    "print \"* count the number of artists (with or without tags):\""
   ]
  },
  {
   "cell_type": "code",
   "execution_count": 24,
   "metadata": {
    "collapsed": false
   },
   "outputs": [
    {
     "name": "stdout",
     "output_type": "stream",
     "text": [
      "(3888,)\n"
     ]
    }
   ],
   "source": [
    "print res.fetchone()"
   ]
  },
  {
   "cell_type": "markdown",
   "metadata": {},
   "source": [
    "# Show Terms from Terms Table"
   ]
  },
  {
   "cell_type": "code",
   "execution_count": 25,
   "metadata": {
    "collapsed": false
   },
   "outputs": [
    {
     "name": "stdout",
     "output_type": "stream",
     "text": [
      "*************** TERMS TABLE ***************\n"
     ]
    }
   ],
   "source": [
    "print \"*************** TERMS TABLE ***************\""
   ]
  },
  {
   "cell_type": "code",
   "execution_count": 26,
   "metadata": {
    "collapsed": false
   },
   "outputs": [
    {
     "name": "stdout",
     "output_type": "stream",
     "text": [
      "* list all known terms in the database (display the first 3):\n"
     ]
    }
   ],
   "source": [
    "# list all terms (=tags)\n",
    "q = \"SELECT * FROM terms\"\n",
    "res = c.execute(q)\n",
    "print \"* list all known terms in the database (display the first 3):\""
   ]
  },
  {
   "cell_type": "code",
   "execution_count": 27,
   "metadata": {
    "collapsed": false
   },
   "outputs": [
    {
     "name": "stdout",
     "output_type": "stream",
     "text": [
      "[(u'00s',), (u'00s country',), (u'00s pop',)]\n"
     ]
    }
   ],
   "source": [
    "print res.fetchall()[:3]"
   ]
  },
  {
   "cell_type": "code",
   "execution_count": 28,
   "metadata": {
    "collapsed": false
   },
   "outputs": [
    {
     "name": "stdout",
     "output_type": "stream",
     "text": [
      "* list terms that start with 'indie' (we ask for 3 of them):\n"
     ]
    }
   ],
   "source": [
    "# list all terms that start with indie\n",
    "q = \"SELECT term FROM terms WHERE SUBSTR(term, 1, 5)='indie' LIMIT 3\"\n",
    "res = c.execute(q)\n",
    "print \"* list terms that start with 'indie' (we ask for 3 of them):\""
   ]
  },
  {
   "cell_type": "code",
   "execution_count": 29,
   "metadata": {
    "collapsed": false
   },
   "outputs": [
    {
     "name": "stdout",
     "output_type": "stream",
     "text": [
      "[(u'indie',), (u'indie acoustic',), (u'indie artist',)]\n"
     ]
    }
   ],
   "source": [
    "print res.fetchall()"
   ]
  },
  {
   "cell_type": "code",
   "execution_count": 31,
   "metadata": {
    "collapsed": false
   },
   "outputs": [
    {
     "name": "stdout",
     "output_type": "stream",
     "text": [
      "* we check if two tags are in the same database, (the first one, is):\n"
     ]
    }
   ],
   "source": [
    "q1 = \"SELECT term FROM terms WHERE term='rock' LIMIT 1\"\n",
    "q2 = \"SELECT term FROM terms WHERE term='abc123xyz'\"\n",
    "res = c.execute(q1)\n",
    "res1_str = str(res.fetchone())\n",
    "res = c.execute(q2)\n",
    "res2_str = str(res.fetchone())\n",
    "print \"* we check if two tags are in the same database, (the first one, is):\""
   ]
  },
  {
   "cell_type": "code",
   "execution_count": 32,
   "metadata": {
    "collapsed": false
   },
   "outputs": [
    {
     "name": "stdout",
     "output_type": "stream",
     "text": [
      "rock: (u'rock',) , abc123xyz: None\n"
     ]
    }
   ],
   "source": [
    "print 'rock:' , res1_str, ', abc123xyz:', res2_str"
   ]
  },
  {
   "cell_type": "code",
   "execution_count": 33,
   "metadata": {
    "collapsed": false
   },
   "outputs": [
    {
     "name": "stdout",
     "output_type": "stream",
     "text": [
      "btags work the same as terms, e.g., list all known mbtags (display the first 3):\n"
     ]
    }
   ],
   "source": [
    "# similar for mtags, list all mbtags\n",
    "q = \"SELECT * FROM mbtags\"\n",
    "res = c.execute(q)\n",
    "print \"btags work the same as terms, e.g., list all known mbtags (display the first 3):\""
   ]
  },
  {
   "cell_type": "code",
   "execution_count": 34,
   "metadata": {
    "collapsed": false
   },
   "outputs": [
    {
     "name": "stdout",
     "output_type": "stream",
     "text": [
      "[(u'00s',), (u'1 13 165900 150 7672 22647 34612 48720 59280 74602 87545 95495 107182 131087 141522 153710',), (u'1 7 186240 183 23558 41608 89158 111733 150833 169883',)]\n"
     ]
    }
   ],
   "source": [
    "print res.fetchall()[:3]"
   ]
  },
  {
   "cell_type": "markdown",
   "metadata": {},
   "source": [
    "# ARTIST-TERM DEMO"
   ]
  },
  {
   "cell_type": "code",
   "execution_count": 35,
   "metadata": {
    "collapsed": false
   },
   "outputs": [
    {
     "name": "stdout",
     "output_type": "stream",
     "text": [
      "************** ARTIST / TERM DEMO ***************\n"
     ]
    }
   ],
   "source": [
    "print \"************** ARTIST / TERM DEMO ***************\""
   ]
  },
  {
   "cell_type": "markdown",
   "metadata": {},
   "source": [
    "## get tags given an artist_id"
   ]
  },
  {
   "cell_type": "code",
   "execution_count": 37,
   "metadata": {
    "collapsed": false
   },
   "outputs": [
    {
     "name": "stdout",
     "output_type": "stream",
     "text": [
      "* we get all tags from The Beatles (since we know their id) and we show 4\n",
      "[(u'60s',), (u'acoustic',), (u'am pop',), (u'ambient',)]\n"
     ]
    }
   ],
   "source": [
    "# get all the tags from \"The Beatles\"\n",
    "q = \"SELECT term FROM artist_term WHERE artist_id='AR6XZ861187FB4CECD'\"\n",
    "res = c.execute(q)\n",
    "print \"* we get all tags from The Beatles (since we know their id) and we show 4\"\n",
    "print res.fetchall()[:4]"
   ]
  },
  {
   "cell_type": "markdown",
   "metadata": {},
   "source": [
    "## count number of unique tags"
   ]
  },
  {
   "cell_type": "code",
   "execution_count": 38,
   "metadata": {
    "collapsed": false
   },
   "outputs": [
    {
     "name": "stdout",
     "output_type": "stream",
     "text": [
      "* we count the number of unique tags applied to The Beatles\n",
      "(30,)\n"
     ]
    }
   ],
   "source": [
    "# count the number of tags applied to the Beatles\n",
    "q = \"SELECT COUNT(term) FROM artist_term WHERE artist_id='AR6XZ861187FB4CECD'\"\n",
    "res = c.execute(q)\n",
    "print \"* we count the number of unique tags applied to The Beatles\"\n",
    "print res.fetchone()"
   ]
  },
  {
   "cell_type": "markdown",
   "metadata": {},
   "source": [
    "## count artist ids with tag \"jazz\""
   ]
  },
  {
   "cell_type": "code",
   "execution_count": 42,
   "metadata": {
    "collapsed": false
   },
   "outputs": [
    {
     "name": "stdout",
     "output_type": "stream",
     "text": [
      "* we get all artists tagged with jazz (we display 2 at random):\n",
      "[(u'AR7S48C1187B99711E',), (u'ARH3TXI1187FB3A486',)]\n"
     ]
    }
   ],
   "source": [
    "# get artist ids that have been tagged with 'jazz'\n",
    "# note the encode_string function, which mostly doubles the '' sign\n",
    "q = \"SELECT artist_id FROM artist_term WHERE term=\" + encode_string('jazz')\n",
    "q += \" ORDER BY RANDOM() LIMIT 2\"\n",
    "res = c.execute(q)\n",
    "print \"* we get all artists tagged with jazz (we display 2 at random):\"\n",
    "print res.fetchall()"
   ]
  },
  {
   "cell_type": "code",
   "execution_count": 44,
   "metadata": {
    "collapsed": false
   },
   "outputs": [
    {
     "name": "stdout",
     "output_type": "stream",
     "text": [
      "* we got the number of terms that got the term 'rock':\n",
      "(2346,)\n"
     ]
    }
   ],
   "source": [
    "q = \"SELECT COUNT(artist_id) FROM artist_term WHERE term=\" + encode_string('rock')\n",
    "res = c.execute(q)\n",
    "print \"* we got the number of terms that got the term 'rock':\"\n",
    "print res.fetchone()"
   ]
  },
  {
   "cell_type": "markdown",
   "metadata": {},
   "source": [
    "## differentiate between tags and mbtags"
   ]
  },
  {
   "cell_type": "code",
   "execution_count": 45,
   "metadata": {
    "collapsed": false
   },
   "outputs": [
    {
     "name": "stdout",
     "output_type": "stream",
     "text": [
      "* one artist has the tag 'rock' but not mbtag 'rock'\n",
      "(u'AR009211187B989185',)\n"
     ]
    }
   ],
   "source": [
    "# count the number of artists that have the term 'rock' but not the mbtag 'rock'\n",
    "q = \"SELECT artist_id FROM artist_term WHERE term=\" + encode_string('rock')\n",
    "q += \" EXCEPT SELECT artist_id FROM artist_mbtag WHERE mbtag=\" + encode_string('rock')\n",
    "q += \" LIMIT 1\"\n",
    "\n",
    "res = c.execute(q)\n",
    "print \"* one artist has the tag 'rock' but not mbtag 'rock'\"\n",
    "print res.fetchone()"
   ]
  },
  {
   "cell_type": "markdown",
   "metadata": {},
   "source": [
    "## artists with no terms"
   ]
  },
  {
   "cell_type": "code",
   "execution_count": 46,
   "metadata": {
    "collapsed": false
   },
   "outputs": [
    {
     "name": "stdout",
     "output_type": "stream",
     "text": [
      "* we show an artist with no terms:\n",
      "(u'AR2D6TV1187B9B2FBF',)\n"
     ]
    }
   ],
   "source": [
    "q = \"SELECT artist_id FROM artists EXCEPT SELECT artist_id FROM artist_term LIMIT 1\"\n",
    "res = c.execute(q)\n",
    "artist_notag = res.fetchone()\n",
    "print \"* we show an artist with no terms:\"\n",
    "if artist_notag is None:\n",
    "    # check if artists have at least one tag, can be slow\n",
    "    q = \"SELECT * FROM artists\"\n",
    "    res = c.execute(q)\n",
    "    allartists = map(lambda x : x[0], res.fetchall())\n",
    "    for art in allartists:\n",
    "        q = \"SELECT COUNT(term) FROM artist_term WHERE artist_id='\" + art + \"'\"\n",
    "        res.execute(q)\n",
    "        assert res.fetchone()[0] > 0\n",
    "    print '(found no artist with no terms, we double-checked)'\n",
    "else:\n",
    "    print artist_notag"
   ]
  },
  {
   "cell_type": "markdown",
   "metadata": {},
   "source": [
    "## close up the connection"
   ]
  },
  {
   "cell_type": "code",
   "execution_count": 47,
   "metadata": {
    "collapsed": true
   },
   "outputs": [],
   "source": [
    "c.close()\n",
    "conn.close()"
   ]
  },
  {
   "cell_type": "code",
   "execution_count": null,
   "metadata": {
    "collapsed": true
   },
   "outputs": [],
   "source": []
  }
 ],
 "metadata": {
  "kernelspec": {
   "display_name": "Python 2",
   "language": "python",
   "name": "python2"
  },
  "language_info": {
   "codemirror_mode": {
    "name": "ipython",
    "version": 2
   },
   "file_extension": ".py",
   "mimetype": "text/x-python",
   "name": "python",
   "nbconvert_exporter": "python",
   "pygments_lexer": "ipython2",
   "version": "2.7.9"
  }
 },
 "nbformat": 4,
 "nbformat_minor": 0
}

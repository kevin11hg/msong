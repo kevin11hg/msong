{
 "cells": [
  {
   "cell_type": "code",
   "execution_count": 1,
   "metadata": {
    "collapsed": true
   },
   "outputs": [],
   "source": [
    "from IPython.core.display import HTML"
   ]
  },
  {
   "cell_type": "code",
   "execution_count": 2,
   "metadata": {
    "collapsed": false
   },
   "outputs": [
    {
     "data": {
      "text/html": [
       "<iframe src='http://labrosa.ee.columbia.edu/millionsong/sites/default/files/tutorial5.pdf' width=1000 height=1000></iframe>"
      ],
      "text/plain": [
       "<IPython.core.display.HTML object>"
      ]
     },
     "execution_count": 2,
     "metadata": {},
     "output_type": "execute_result"
    }
   ],
   "source": [
    "url_src_tutorial5 = \"http://labrosa.ee.columbia.edu/millionsong/sites/default/files/tutorial5.pdf\"\n",
    "HTML(\"<iframe src='%s' width=1000 height=1000></iframe>\"%url_src_tutorial5)"
   ]
  },
  {
   "cell_type": "code",
   "execution_count": 4,
   "metadata": {
    "collapsed": false
   },
   "outputs": [],
   "source": [
    "import os\n",
    "import sys\n",
    "import glob\n",
    "import time\n",
    "import datetime\n",
    "import numpy as np\n",
    "try:\n",
    "    import sqlite3\n",
    "except ImportError:\n",
    "    print 'you need sqlite3 installed to use this program'\n",
    "    sys.exit(0)\n",
    "    \n",
    "def encode_string(s):\n",
    "    \"\"\"\n",
    "    Simple utility function to make sure a string is proper\n",
    "    to eb used in a AQLite query\n",
    "    (different than postgresql, no N to specify unicode)\n",
    "    \"\"\"\n",
    "    return \"'\" + s.replace(\"'\", \"''\") + \"'\""
   ]
  },
  {
   "cell_type": "code",
   "execution_count": 11,
   "metadata": {
    "collapsed": true
   },
   "outputs": [],
   "source": [
    "dbfile = 'MillionSongSubset/AdditionalFiles/subset_artist_similarity.db'"
   ]
  },
  {
   "cell_type": "code",
   "execution_count": 12,
   "metadata": {
    "collapsed": false
   },
   "outputs": [
    {
     "name": "stdout",
     "output_type": "stream",
     "text": [
      "*************** GENERAL SQLITE DEMO ***************\n"
     ]
    }
   ],
   "source": [
    "# connect to sqlite3 database\n",
    "conn = sqlite3.connect(dbfile)\n",
    "c = conn.cursor()\n",
    "print '*************** GENERAL SQLITE DEMO ***************'"
   ]
  },
  {
   "cell_type": "markdown",
   "metadata": {},
   "source": [
    "## Print all Table Names"
   ]
  },
  {
   "cell_type": "code",
   "execution_count": 13,
   "metadata": {
    "collapsed": false
   },
   "outputs": [
    {
     "name": "stdout",
     "output_type": "stream",
     "text": [
      "* tables contained in that SQLite file/database (there should be 3):\n",
      "[(u'artists',), (u'similarity',)]\n"
     ]
    }
   ],
   "source": [
    "# list all tables in the databsae\n",
    "# note that sqlite does the actual job when we call fetchall() or fetchone()\n",
    "q = \"SELECT name FROM sqlite_master WHERE type='table' ORDER BY name\"\n",
    "res = c.execute(q)\n",
    "print \"* tables contained in that SQLite file/database (there should be 3):\"\n",
    "print res.fetchall()"
   ]
  },
  {
   "cell_type": "markdown",
   "metadata": {},
   "source": [
    "## Print all INdices"
   ]
  },
  {
   "cell_type": "code",
   "execution_count": 14,
   "metadata": {
    "collapsed": false
   },
   "outputs": [
    {
     "name": "stdout",
     "output_type": "stream",
     "text": [
      "* indices in the database to make reads faster\n"
     ]
    }
   ],
   "source": [
    "q = \"SELECT name FROM sqlite_master WHERE type='index' ORDER BY name\"\n",
    "res = c.execute(q)\n",
    "print \"* indices in the database to make reads faster\""
   ]
  },
  {
   "cell_type": "code",
   "execution_count": 15,
   "metadata": {
    "collapsed": false
   },
   "outputs": [
    {
     "name": "stdout",
     "output_type": "stream",
     "text": [
      "[(u'idx_sim_target',), (u'idx_target_sim',), (u'sqlite_autoindex_artists_1',)]\n"
     ]
    }
   ],
   "source": [
    "print res.fetchall()"
   ]
  },
  {
   "cell_type": "code",
   "execution_count": 16,
   "metadata": {
    "collapsed": false
   },
   "outputs": [
    {
     "name": "stdout",
     "output_type": "stream",
     "text": [
      "*************** ARTISTS TABLE DEMO *******************\n"
     ]
    }
   ],
   "source": [
    "print \"*************** ARTISTS TABLE DEMO *******************\""
   ]
  },
  {
   "cell_type": "markdown",
   "metadata": {},
   "source": [
    "## Count the number of artists"
   ]
  },
  {
   "cell_type": "code",
   "execution_count": 17,
   "metadata": {
    "collapsed": false
   },
   "outputs": [
    {
     "name": "stdout",
     "output_type": "stream",
     "text": [
      "* number of artist ECHO NEST ID in 'artists' table:\n",
      "3888\n"
     ]
    }
   ],
   "source": [
    "# list all artist ids\n",
    "q = \"SELECT artist_id FROM artists\"\n",
    "res = c.execute(q)\n",
    "print \"* number of artist ECHO NEST ID in 'artists' table:\"\n",
    "print len(res.fetchall())"
   ]
  },
  {
   "cell_type": "code",
   "execution_count": 18,
   "metadata": {
    "collapsed": false
   },
   "outputs": [
    {
     "name": "stdout",
     "output_type": "stream",
     "text": [
      "************** ARTIST SIMILARITY DEMO ****************\n"
     ]
    }
   ],
   "source": [
    "print \"************** ARTIST SIMILARITY DEMO ****************\""
   ]
  },
  {
   "cell_type": "code",
   "execution_count": 19,
   "metadata": {
    "collapsed": false
   },
   "outputs": [
    {
     "name": "stdout",
     "output_type": "stream",
     "text": [
      "* one random similarity relationship (A->B means that B is similar to A):\n",
      "AR009211187B989185 -> ARHINI31187B995C1D\n"
     ]
    }
   ],
   "source": [
    "# get random similarity relationship\n",
    "q = \"SELECT target, similar FROM similarity LIMIT 1\"\n",
    "res = c.execute(q)\n",
    "a, s, = res.fetchone()\n",
    "print \"* one random similarity relationship (A->B means that B is similar to A):\"\n",
    "print a, '->', s"
   ]
  },
  {
   "cell_type": "code",
   "execution_count": 20,
   "metadata": {
    "collapsed": false
   },
   "outputs": [
    {
     "name": "stdout",
     "output_type": "stream",
     "text": [
      "* artist  AR009211187B989185  has that many similar artists in the dataset\n"
     ]
    }
   ],
   "source": [
    "# count to the number of similar artist in previous call\n",
    "q = \"SELECT Count(similar) FROM similarity WHERE target=\" + encode_string(a)\n",
    "res = c.execute(q)\n",
    "print '* artist ', a, ' has that many similar artists in the dataset'"
   ]
  },
  {
   "cell_type": "code",
   "execution_count": 22,
   "metadata": {
    "collapsed": false
   },
   "outputs": [
    {
     "name": "stdout",
     "output_type": "stream",
     "text": [
      "34\n"
     ]
    }
   ],
   "source": [
    "print res.fetchone()[0]"
   ]
  },
  {
   "cell_type": "code",
   "execution_count": 23,
   "metadata": {
    "collapsed": false
   },
   "outputs": [
    {
     "name": "stdout",
     "output_type": "stream",
     "text": [
      "* artist  ARHINI31187B995C1D is similar to that many artists in the dataset:\n",
      "19\n"
     ]
    }
   ],
   "source": [
    "# count the number of artist s (c queries up) is similar to\n",
    "q = \"SELECT Count(target) FROM similarity WHERE similar=\" + encode_string(s)\n",
    "res = c.execute(q)\n",
    "print \"* artist \", s, \"is similar to that many artists in the dataset:\"\n",
    "print res.fetchone()[0]"
   ]
  },
  {
   "cell_type": "code",
   "execution_count": 24,
   "metadata": {
    "collapsed": true
   },
   "outputs": [],
   "source": [
    "c.close()\n",
    "conn.close()"
   ]
  },
  {
   "cell_type": "code",
   "execution_count": null,
   "metadata": {
    "collapsed": true
   },
   "outputs": [],
   "source": []
  }
 ],
 "metadata": {
  "kernelspec": {
   "display_name": "Python 2",
   "language": "python",
   "name": "python2"
  },
  "language_info": {
   "codemirror_mode": {
    "name": "ipython",
    "version": 2
   },
   "file_extension": ".py",
   "mimetype": "text/x-python",
   "name": "python",
   "nbconvert_exporter": "python",
   "pygments_lexer": "ipython2",
   "version": "2.7.9"
  }
 },
 "nbformat": 4,
 "nbformat_minor": 0
}

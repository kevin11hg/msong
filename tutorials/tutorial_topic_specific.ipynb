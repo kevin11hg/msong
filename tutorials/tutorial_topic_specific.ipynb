{
 "cells": [
  {
   "cell_type": "code",
   "execution_count": 1,
   "metadata": {
    "collapsed": true
   },
   "outputs": [],
   "source": [
    "from IPython.core.display import HTML"
   ]
  },
  {
   "cell_type": "code",
   "execution_count": 56,
   "metadata": {
    "collapsed": false
   },
   "outputs": [
    {
     "data": {
      "text/html": [
       "<iframe src='http://labrosa.ee.columbia.edu/millionsong/pages/basic-getters-functions' width=1000 height=333></iframe>"
      ],
      "text/plain": [
       "<IPython.core.display.HTML object>"
      ]
     },
     "execution_count": 56,
     "metadata": {},
     "output_type": "execute_result"
    }
   ],
   "source": [
    "basic_getters_tutorial_url_src = \"http://labrosa.ee.columbia.edu/millionsong/pages/basic-getters-functions\"\n",
    "HTML(\"<iframe src='%s' width=1000 height=333></iframe>\"%basic_getters_tutorial_url_src)"
   ]
  },
  {
   "cell_type": "code",
   "execution_count": 6,
   "metadata": {
    "collapsed": true
   },
   "outputs": [],
   "source": [
    "import os\n",
    "import sys\n",
    "import glob\n",
    "import datetime\n",
    "import sqlite3\n",
    "import numpy as np"
   ]
  },
  {
   "cell_type": "code",
   "execution_count": 4,
   "metadata": {
    "collapsed": false
   },
   "outputs": [
    {
     "name": "stdout",
     "output_type": "stream",
     "text": [
      "kaggle\t\t\t       tutorial_1.ipynb  tutorial_topic_specific.ipynb\r\n",
      "MillionSongSubset\t       tutorial_2.ipynb  uci\r\n",
      "millionsongsubset_full.tar.gz  tutorial_3.ipynb\r\n",
      "MSongsDB\t\t       tutorial_5.ipynb\r\n",
      "/media/1ADF-0E69/msong\r\n"
     ]
    }
   ],
   "source": [
    "!ls ; pwd"
   ]
  },
  {
   "cell_type": "code",
   "execution_count": 14,
   "metadata": {
    "collapsed": false
   },
   "outputs": [],
   "source": [
    "msd_subset_path = os.path.join('/media/1ADF-0E69/msong', 'MillionSongSubset')\n",
    "msd_subset_data_path = os.path.join(msd_subset_path, 'data')\n",
    "msd_subset_addf_path = os.path.join(msd_subset_path, 'AdditionalFiles')\n",
    "assert os.path.isdir(msd_subset_path), 'wrong_path'\n",
    "msd_code_path = os.path.join('/media/1ADF-0E69/msong', 'MSongsDB')\n",
    "assert os.path.isdir(msd_code_path)\n",
    "sys.path.append(os.path.join(msd_code_path, 'PythonSrc'))"
   ]
  },
  {
   "cell_type": "code",
   "execution_count": 16,
   "metadata": {
    "collapsed": false
   },
   "outputs": [],
   "source": [
    "import hdf5_getters as GETTERS"
   ]
  },
  {
   "cell_type": "code",
   "execution_count": 33,
   "metadata": {
    "collapsed": false
   },
   "outputs": [
    {
     "name": "stdout",
     "output_type": "stream",
     "text": [
      "./MillionSongSubset/data/A/X/L/TRAXLZU12903D05F94.h5\n",
      "/media/1ADF-0E69/msong\n"
     ]
    }
   ],
   "source": [
    "!find . -name TRAXLZU12903D05F94.h5 ; pwd"
   ]
  },
  {
   "cell_type": "markdown",
   "metadata": {},
   "source": [
    "## GETTERS TO access basic fields"
   ]
  },
  {
   "cell_type": "code",
   "execution_count": 37,
   "metadata": {
    "collapsed": false
   },
   "outputs": [
    {
     "data": {
      "text/plain": [
       "'Rick Astley'"
      ]
     },
     "execution_count": 37,
     "metadata": {},
     "output_type": "execute_result"
    }
   ],
   "source": [
    "h5 = GETTERS.open_h5_file_read(os.path.join(msd_subset_data_path, './A/X/L/TRAXLZU12903D05F94.h5'))\n",
    "GETTERS.get_artist_name(h5)"
   ]
  },
  {
   "cell_type": "code",
   "execution_count": 38,
   "metadata": {
    "collapsed": false
   },
   "outputs": [
    {
     "name": "stdout",
     "output_type": "stream",
     "text": [
      "\u001b[H\u001b[2J"
     ]
    }
   ],
   "source": [
    "clear h5"
   ]
  },
  {
   "cell_type": "code",
   "execution_count": 42,
   "metadata": {
    "collapsed": false
   },
   "outputs": [
    {
     "data": {
      "text/plain": [
       "['get_danceability',\n",
       " 'get_song_id',\n",
       " 'get_release',\n",
       " 'get_artist_hotttnesss',\n",
       " 'get_title',\n",
       " 'get_segments_timbre',\n",
       " 'get_artist_longitude',\n",
       " 'get_beats_confidence',\n",
       " 'get_end_of_fade_in',\n",
       " 'get_time_signature',\n",
       " 'get_artist_id',\n",
       " 'get_sections_start',\n",
       " 'get_mode',\n",
       " 'get_loudness',\n",
       " 'get_artist_7digitalid',\n",
       " 'get_artist_terms_freq',\n",
       " 'get_similar_artists',\n",
       " 'get_artist_terms_weight',\n",
       " 'get_mode_confidence',\n",
       " 'get_segments_loudness_max_time',\n",
       " 'get_artist_familiarity',\n",
       " 'get_song_hotttnesss',\n",
       " 'get_time_signature_confidence',\n",
       " 'get_artist_name',\n",
       " 'get_key',\n",
       " 'get_artist_playmeid',\n",
       " 'get_artist_mbtags',\n",
       " 'get_analysis_sample_rate',\n",
       " 'get_year',\n",
       " 'get_key_confidence',\n",
       " 'get_artist_location',\n",
       " 'get_tatums_start',\n",
       " 'get_audio_md5',\n",
       " 'get_bars_start',\n",
       " 'get_bars_confidence',\n",
       " 'get_artist_mbid',\n",
       " 'get_track_7digitalid',\n",
       " 'get_artist_terms',\n",
       " 'get_segments_pitches',\n",
       " 'get_segments_confidence',\n",
       " 'get_segments_loudness_start',\n",
       " 'get_energy',\n",
       " 'get_segments_start',\n",
       " 'get_segments_loudness_max',\n",
       " 'get_duration',\n",
       " 'get_artist_mbtags_count',\n",
       " 'get_release_7digitalid',\n",
       " 'get_tatums_confidence',\n",
       " 'get_track_id',\n",
       " 'get_tempo',\n",
       " 'get_start_of_fade_out',\n",
       " 'get_beats_start',\n",
       " 'get_num_songs',\n",
       " 'get_sections_confidence',\n",
       " 'get_artist_latitude']"
      ]
     },
     "execution_count": 42,
     "metadata": {},
     "output_type": "execute_result"
    }
   ],
   "source": [
    "filter(lambda x : x[:3] == 'get', GETTERS.__dict__.keys())"
   ]
  },
  {
   "cell_type": "code",
   "execution_count": 43,
   "metadata": {
    "collapsed": false
   },
   "outputs": [
    {
     "data": {
      "text/plain": [
       "63"
      ]
     },
     "execution_count": 43,
     "metadata": {},
     "output_type": "execute_result"
    }
   ],
   "source": [
    "len(GETTERS.__dict__.keys())"
   ]
  },
  {
   "cell_type": "markdown",
   "metadata": {},
   "source": [
    "## Iterate over all songs"
   ]
  },
  {
   "cell_type": "code",
   "execution_count": 57,
   "metadata": {
    "collapsed": false
   },
   "outputs": [
    {
     "data": {
      "text/html": [
       "<iframe src='http://labrosa.ee.columbia.edu/millionsong/pages/iterate-over-all-songs' width=1000 height=333></iframe>"
      ],
      "text/plain": [
       "<IPython.core.display.HTML object>"
      ]
     },
     "execution_count": 57,
     "metadata": {},
     "output_type": "execute_result"
    }
   ],
   "source": [
    "iterate_over_all_songs_url_src = \"http://labrosa.ee.columbia.edu/millionsong/pages/iterate-over-all-songs\"\n",
    "HTML(\"<iframe src='%s' width=1000 height=333></iframe>\"%iterate_over_all_songs_url_src)"
   ]
  },
  {
   "cell_type": "code",
   "execution_count": 44,
   "metadata": {
    "collapsed": true
   },
   "outputs": [],
   "source": [
    "def count_all_files(basedir='.', ext='h5'):\n",
    "    cnt = 0\n",
    "    for root, dirs, files in os.walk(basedir):\n",
    "        files = glob.glob(os.path.join(root, \"*\"+ext))\n",
    "        cnt += len(files)\n",
    "    return cnt"
   ]
  },
  {
   "cell_type": "code",
   "execution_count": 45,
   "metadata": {
    "collapsed": true
   },
   "outputs": [],
   "source": [
    "def get_all_titles(basedir=\".\", ext=\"h5\"):\n",
    "    titles = []\n",
    "    for root, dirs, fiels in os.walk(basedir):\n",
    "        files = glob.glob(os.path.join(root, \"*\"+ext))\n",
    "        for f in files:\n",
    "            h5 = GETTERS.open_h5_file_read(f)\n",
    "            titles.append( GETTERS.get_title(h5) )\n",
    "            h5.close()\n",
    "            \n",
    "    return titles"
   ]
  },
  {
   "cell_type": "code",
   "execution_count": 46,
   "metadata": {
    "collapsed": false
   },
   "outputs": [
    {
     "name": "stdout",
     "output_type": "stream",
     "text": [
      "kaggle\t\t\t       tutorial_1.ipynb  tutorial_topic_specific.ipynb\r\n",
      "MillionSongSubset\t       tutorial_2.ipynb  uci\r\n",
      "millionsongsubset_full.tar.gz  tutorial_3.ipynb\r\n",
      "MSongsDB\t\t       tutorial_5.ipynb\r\n",
      "/media/1ADF-0E69/msong\r\n"
     ]
    }
   ],
   "source": [
    "!ls ; pwd"
   ]
  },
  {
   "cell_type": "code",
   "execution_count": 48,
   "metadata": {
    "collapsed": false
   },
   "outputs": [
    {
     "name": "stdout",
     "output_type": "stream",
     "text": [
      "Number of titles is: 10000\n",
      "First 10 titles are: ['Deep Sea Creature', 'No Quieras Marcharte', 'If I...', \"Werther - Lyric Drama in four Acts/Act I/Alors_ c'est bien ici la maison du bailli?\", 'Ad Te Clamamus Exsvles Mortva Liberi', 'Murder One', 'On My Feet Again', 'Bedroom Acoustics', 'Segredo', 'Sajana (Ft Faheem Mazhar)']\n"
     ]
    }
   ],
   "source": [
    "print \"Number of titles is: \" + str(count_all_files(msd_subset_data_path))\n",
    "print \"First 10 titles are: \" + str(get_all_titles(msd_subset_data_path)[:10])"
   ]
  },
  {
   "cell_type": "markdown",
   "metadata": {},
   "source": [
    "## SQLite interfaces for Python"
   ]
  },
  {
   "cell_type": "code",
   "execution_count": 58,
   "metadata": {
    "collapsed": false
   },
   "outputs": [
    {
     "data": {
      "text/html": [
       "<iframe src='http://labrosa.ee.columbia.edu/millionsong/pages/sqlite-interfaces-python-and-matlab' width=1000 height=333></iframe>"
      ],
      "text/plain": [
       "<IPython.core.display.HTML object>"
      ]
     },
     "execution_count": 58,
     "metadata": {},
     "output_type": "execute_result"
    }
   ],
   "source": [
    "sqlite_interfaces_url_src = \"http://labrosa.ee.columbia.edu/millionsong/pages/sqlite-interfaces-python-and-matlab\"\n",
    "HTML(\"<iframe src='%s' width=1000 height=333></iframe>\"%sqlite_interfaces_url_src)"
   ]
  },
  {
   "cell_type": "markdown",
   "metadata": {},
   "source": [
    "## Find Song w/ specific Name or Feature"
   ]
  },
  {
   "cell_type": "code",
   "execution_count": 59,
   "metadata": {
    "collapsed": false
   },
   "outputs": [
    {
     "data": {
      "text/html": [
       "<iframe src='http://labrosa.ee.columbia.edu/millionsong/pages/find-song-specific-name-or-feature' width=1000 height=333></iframe>"
      ],
      "text/plain": [
       "<IPython.core.display.HTML object>"
      ]
     },
     "execution_count": 59,
     "metadata": {},
     "output_type": "execute_result"
    }
   ],
   "source": [
    "find_song_or_feature_url_src = \"http://labrosa.ee.columbia.edu/millionsong/pages/find-song-specific-name-or-feature\"\n",
    "HTML(\"<iframe src='%s' width=1000 height=333></iframe>\"%find_song_or_feature_url_src)"
   ]
  },
  {
   "cell_type": "code",
   "execution_count": 75,
   "metadata": {
    "collapsed": false
   },
   "outputs": [
    {
     "name": "stdout",
     "output_type": "stream",
     "text": [
      "/media/1ADF-0E69/msong\r\n"
     ]
    }
   ],
   "source": [
    "!pwd"
   ]
  },
  {
   "cell_type": "code",
   "execution_count": 74,
   "metadata": {
    "collapsed": false
   },
   "outputs": [
    {
     "name": "stdout",
     "output_type": "stream",
     "text": [
      "/media/1ADF-0E69/msong/MillionSongSubset/AdditionalFiles/subset_msd_summary_file.h5\r\n"
     ]
    }
   ],
   "source": [
    "!find /media/1ADF-0E69/msong/MillionSongSubset -name subset_msd_summary_file.h5"
   ]
  },
  {
   "cell_type": "code",
   "execution_count": 79,
   "metadata": {
    "collapsed": false
   },
   "outputs": [
    {
     "name": "stdout",
     "output_type": "stream",
     "text": [
      "TRACECN128F9310E97\n",
      "TRAXMAK128E07822CB\n",
      "TRAMXGR128E07822CC\n",
      "TRARTEH128F423DBC1\n",
      "TRAZVFJ128F9310CE2\n",
      "TRAKYWY128F9310CF4\n",
      "TRAQHNX128E07822A7\n",
      "TRBHKXX128F4252D02\n",
      "TRBALJE128F9310DCE\n",
      "TRBBGQN128F9310CBE\n",
      "TRBGIZH128F4252D9E\n"
     ]
    }
   ],
   "source": [
    "subset_summary_filepath = !find /media/1ADF-0E69/msong/MillionSongSubset -name subset_msd_summary_file.h5\n",
    "h5 = GETTERS.open_h5_file_read(str(subset_summary_filepath[0]))\n",
    "for k in range(10000):\n",
    "    a_name = GETTERS.get_artist_name(h5,k)\n",
    "    if a_name == 'Radiohead':\n",
    "        print GETTERS.get_track_id(h5,k)"
   ]
  },
  {
   "cell_type": "code",
   "execution_count": 81,
   "metadata": {
    "collapsed": false
   },
   "outputs": [
    {
     "name": "stdout",
     "output_type": "stream",
     "text": [
      "TRACECN128F9310E97\n",
      "TRAXMAK128E07822CB\n",
      "TRAMXGR128E07822CC\n",
      "TRARTEH128F423DBC1\n",
      "TRAZVFJ128F9310CE2\n",
      "TRAKYWY128F9310CF4\n",
      "TRAQHNX128E07822A7\n",
      "TRBHKXX128F4252D02\n",
      "TRBALJE128F9310DCE\n",
      "TRBBGQN128F9310CBE\n",
      "TRBGIZH128F4252D9E\n"
     ]
    }
   ],
   "source": [
    "h5 = GETTERS.open_h5_file_read(str(subset_summary_filepath[0]))\n",
    "idxs = h5.root.metadata.songs.getWhereList('artist_name==\"Radiohead\"')\n",
    "for idx in idxs:\n",
    "    print h5.root.analysis.songs.cols.track_id[idx]"
   ]
  },
  {
   "cell_type": "code",
   "execution_count": 85,
   "metadata": {
    "collapsed": false
   },
   "outputs": [
    {
     "data": {
      "text/plain": [
       "['TRACCVZ128F4291A8A',\n",
       " 'TRACCMH128F428E4CD',\n",
       " 'TRACCSW128F148C7C3',\n",
       " 'TRACCXJ128F428F0CF',\n",
       " 'TRACCVS12903D014F8',\n",
       " 'TRACCKS128F42B77AE',\n",
       " 'TRACCQM12903CACC1E',\n",
       " 'TRACCUS128F92E1FEB',\n",
       " 'TRACCJA128F149A144',\n",
       " 'TRACCGB12903CD1B90']"
      ]
     },
     "execution_count": 85,
     "metadata": {},
     "output_type": "execute_result"
    }
   ],
   "source": [
    "[row['track_id'] for row in h5.root.analysis.songs.where('tempo>0')][:10]"
   ]
  },
  {
   "cell_type": "code",
   "execution_count": 86,
   "metadata": {
    "collapsed": false
   },
   "outputs": [
    {
     "data": {
      "text/plain": [
       "[(u'TRARTEH128F423DBC1',),\n",
       " (u'TRBGIZH128F4252D9E',),\n",
       " (u'TRAMXGR128E07822CC',),\n",
       " (u'TRBHKXX128F4252D02',),\n",
       " (u'TRAXMAK128E07822CB',),\n",
       " (u'TRAQHNX128E07822A7',),\n",
       " (u'TRAKYWY128F9310CF4',),\n",
       " (u'TRACECN128F9310E97',),\n",
       " (u'TRAZVFJ128F9310CE2',),\n",
       " (u'TRBBGQN128F9310CBE',),\n",
       " (u'TRBALJE128F9310DCE',)]"
      ]
     },
     "execution_count": 86,
     "metadata": {},
     "output_type": "execute_result"
    }
   ],
   "source": [
    "subset_track_metadata_db_filepath = !find . -name subset_track_metadata.db\n",
    "subset_track_metadata_db_filepath = str(subset_track_metadata_db_filepath[0])\n",
    "conn = sqlite3.connect(subset_track_metadata_db_filepath)\n",
    "q = \"SELECT track_id FROM songs WHERE artist_name='Radiohead'\"\n",
    "res = conn.execute(q)\n",
    "res.fetchall()"
   ]
  },
  {
   "cell_type": "markdown",
   "metadata": {},
   "source": [
    "## Find all songs from a list of artists"
   ]
  },
  {
   "cell_type": "code",
   "execution_count": 87,
   "metadata": {
    "collapsed": false
   },
   "outputs": [
    {
     "data": {
      "text/html": [
       "<iframe src='http://labrosa.ee.columbia.edu/millionsong/pages/find-all-songs-list-artists' width=1000 height=333></iframe>"
      ],
      "text/plain": [
       "<IPython.core.display.HTML object>"
      ]
     },
     "execution_count": 87,
     "metadata": {},
     "output_type": "execute_result"
    }
   ],
   "source": [
    "find_all_songs_from_list_of_artists_url_src = \"http://labrosa.ee.columbia.edu/millionsong/pages/find-all-songs-list-artists\"\n",
    "HTML(\"<iframe src='%s' width=1000 height=333></iframe>\" % find_all_songs_from_list_of_artists_url_src)"
   ]
  },
  {
   "cell_type": "code",
   "execution_count": 96,
   "metadata": {
    "collapsed": false
   },
   "outputs": [
    {
     "name": "stdout",
     "output_type": "stream",
     "text": [
      "./MSongsDB/Tasks_Demos/NamesAnalysis/list_all_artists.py\r\n",
      "./MSongsDB/Tasks_Demos/SQLite/list_all_artists_from_db.py\r\n",
      "./MSongsDB/Tasks_Demos/Tagging/artists_test.txt\r\n",
      "./MSongsDB/Tasks_Demos/Tagging/artists_train.txt\r\n",
      "./MSongsDB/Tasks_Demos/YahooRatings/count_ratings_known_artists.py\r\n",
      "./MSongsDB/Tasks_Demos/YahooRatings/mapping_15780artists.txt\r\n",
      "./MSongsDB/Tasks_Demos/YearPrediction/artists_test.txt\r\n",
      "./MSongsDB/Tasks_Demos/YearPrediction/artists_train.txt\r\n",
      "./MillionSongSubset/AdditionalFiles/subset_unique_artists.txt\r\n"
     ]
    }
   ],
   "source": [
    "!find . -name *artists*"
   ]
  },
  {
   "cell_type": "code",
   "execution_count": 97,
   "metadata": {
    "collapsed": false
   },
   "outputs": [],
   "source": [
    "unique_artists_filepath = \"./MSongsDB/Tasks_Demos/Tagging/artists_test.txt\"\n",
    "\n",
    "artists = []\n",
    "f = open(unique_artists_filepath, 'r')\n",
    "\n",
    "for line in f.xreadlines():\n",
    "    if line == '' or line.strip() == '':\n",
    "        continue\n",
    "    artists.append( line.strip() )\n",
    "    \n",
    "f.close()"
   ]
  },
  {
   "cell_type": "code",
   "execution_count": 100,
   "metadata": {
    "collapsed": false
   },
   "outputs": [],
   "source": [
    "q = \"CREATE TEMP TABLE myartists (artist_id TEXT)\"\n",
    "res = conn.execute(q)\n",
    "conn.commit()\n",
    "for aid in artists:\n",
    "    q = \"INSERT INTO myartists VALUES ('\"+aid+\"')\"\n",
    "    res = conn.execute(q)\n",
    "    \n",
    "conn.commit()"
   ]
  },
  {
   "cell_type": "code",
   "execution_count": 101,
   "metadata": {
    "collapsed": false
   },
   "outputs": [
    {
     "name": "stdout",
     "output_type": "stream",
     "text": [
      "0\n",
      "[]\n"
     ]
    }
   ],
   "source": [
    "q = \"SELECT track_id FROM songs JOIN myartists\"\n",
    "q += \" ON myartists.artist_id=songs.artist_id\"\n",
    "\n",
    "res = conn.execute(q)\n",
    "data= res.fetchall()\n",
    "print len(data)\n",
    "print data[:3]"
   ]
  },
  {
   "cell_type": "code",
   "execution_count": 103,
   "metadata": {
    "collapsed": false
   },
   "outputs": [
    {
     "data": {
      "text/plain": [
       "[(u'AR00A1N1187FB484EB',),\n",
       " (u'AR00J9R1187B98D920',),\n",
       " (u'AR00P3M1187FB5428C',),\n",
       " (u'AR00YYQ1187FB504DC',),\n",
       " (u'AR015PN1187B993F3A',),\n",
       " (u'AR01G6G1187B9892EF',),\n",
       " (u'AR01S3D1187FB50A53',),\n",
       " (u'AR01ZNN1187B9B15A4',),\n",
       " (u'AR02MJ91187B9B3D80',),\n",
       " (u'AR02S0A1187B98C867',)]"
      ]
     },
     "execution_count": 103,
     "metadata": {},
     "output_type": "execute_result"
    }
   ],
   "source": [
    "q = \"SELECT * FROM myartists\"\n",
    "r = conn.execute(q)\n",
    "r.fetchall()[:10]"
   ]
  },
  {
   "cell_type": "code",
   "execution_count": 105,
   "metadata": {
    "collapsed": false
   },
   "outputs": [
    {
     "data": {
      "text/plain": [
       "[(u'AR03BDP1187FB5B324',),\n",
       " (u'ARO81XD1187FB38096',),\n",
       " (u'ARFQCJT1187FB3C099',),\n",
       " (u'ARRA2F91187B9B4061',),\n",
       " (u'ARLLANI1187FB5116F',),\n",
       " (u'ARRJ3UC1187FB579D7',),\n",
       " (u'ARGSAFR1269FB35070',),\n",
       " (u'ART4QZC1187FB51612',),\n",
       " (u'ARFONSP11F50C4D175',),\n",
       " (u'AR1XA631187FB57662',)]"
      ]
     },
     "execution_count": 105,
     "metadata": {},
     "output_type": "execute_result"
    }
   ],
   "source": [
    "q = \"SELECT artist_id FROM songs\"\n",
    "r = conn.execute(q)\n",
    "r.fetchall()[:10]"
   ]
  },
  {
   "cell_type": "markdown",
   "metadata": {},
   "source": [
    "## Get all Artists and their Tags"
   ]
  },
  {
   "cell_type": "code",
   "execution_count": 106,
   "metadata": {
    "collapsed": false
   },
   "outputs": [
    {
     "data": {
      "text/html": [
       "<iframe src='http://labrosa.ee.columbia.edu/millionsong/pages/get-all-artists-and-their-tags' width=1000 height=333></iframe>"
      ],
      "text/plain": [
       "<IPython.core.display.HTML object>"
      ]
     },
     "execution_count": 106,
     "metadata": {},
     "output_type": "execute_result"
    }
   ],
   "source": [
    "get_artists_and_tags_url_src = \"http://labrosa.ee.columbia.edu/millionsong/pages/get-all-artists-and-their-tags\"\n",
    "HTML(\"<iframe src='%s' width=1000 height=333></iframe>\"%get_artists_and_tags_url_src)"
   ]
  },
  {
   "cell_type": "code",
   "execution_count": 108,
   "metadata": {
    "collapsed": false
   },
   "outputs": [
    {
     "name": "stdout",
     "output_type": "stream",
     "text": [
      "./MillionSongSubset/AdditionalFiles/subset_unique_artists.txt\r\n"
     ]
    }
   ],
   "source": [
    "!find  -name subset_unique_artists.txt"
   ]
  },
  {
   "cell_type": "code",
   "execution_count": 112,
   "metadata": {
    "collapsed": false
   },
   "outputs": [
    {
     "name": "stdout",
     "output_type": "stream",
     "text": [
      "Radiohead track: TRACECN128F9310E97\n"
     ]
    }
   ],
   "source": [
    "f = open('./MillionSongSubset/AdditionalFiles/subset_unique_artists.txt', 'r')\n",
    "for line in f.xreadlines():\n",
    "    parts = line.strip().split('<SEP>')\n",
    "    if len(parts) > 3 and parts[3] == 'Radiohead':\n",
    "        print 'Radiohead track:', parts[2]\n",
    "        break\n",
    "f.close()"
   ]
  },
  {
   "cell_type": "markdown",
   "metadata": {},
   "source": [
    "## Get Beat-Aligned Chroma"
   ]
  },
  {
   "cell_type": "code",
   "execution_count": 114,
   "metadata": {
    "collapsed": false
   },
   "outputs": [
    {
     "data": {
      "text/html": [
       "<iframe src='http://labrosa.ee.columbia.edu/millionsong/pages/beat-aligned-chromas' width=1000 height=333></iframe>"
      ],
      "text/plain": [
       "<IPython.core.display.HTML object>"
      ]
     },
     "execution_count": 114,
     "metadata": {},
     "output_type": "execute_result"
    }
   ],
   "source": [
    "get_beat_aligned_chromas_url_src = \"http://labrosa.ee.columbia.edu/millionsong/pages/beat-aligned-chromas\"\n",
    "HTML(\"<iframe src='%s' width=1000 height=333></iframe>\" % get_beat_aligned_chromas_url_src)"
   ]
  },
  {
   "cell_type": "code",
   "execution_count": 122,
   "metadata": {
    "collapsed": true
   },
   "outputs": [],
   "source": [
    "sys.path.append(os.path.join(msd_code_path, 'Tasks_Demos'))\n",
    "sys.path.append(os.path.join(msd_code_path, 'Tasks_Demos/YearPrediction'))"
   ]
  },
  {
   "cell_type": "code",
   "execution_count": 126,
   "metadata": {
    "collapsed": false
   },
   "outputs": [
    {
     "name": "stdout",
     "output_type": "stream",
     "text": [
      "./MillionSongSubset/data/A/X/L/TRAXLZU12903D05F94.h5\r\n"
     ]
    }
   ],
   "source": [
    "!find -name TRAXLZU12903D05F94.h5"
   ]
  },
  {
   "cell_type": "code",
   "execution_count": 127,
   "metadata": {
    "collapsed": false
   },
   "outputs": [
    {
     "data": {
      "text/plain": [
       "(12, 397)"
      ]
     },
     "execution_count": 127,
     "metadata": {},
     "output_type": "execute_result"
    }
   ],
   "source": [
    "import beat_aligned_feats\n",
    "btchromas = beat_aligned_feats.get_btchromas('./MillionSongSubset/data/A/X/L/TRAXLZU12903D05F94.h5')\n",
    "btchromas.shape"
   ]
  },
  {
   "cell_type": "code",
   "execution_count": 132,
   "metadata": {
    "collapsed": false
   },
   "outputs": [
    {
     "data": {
      "text/plain": [
       "(935, 12)"
      ]
     },
     "execution_count": 132,
     "metadata": {},
     "output_type": "execute_result"
    }
   ],
   "source": [
    "h5 = GETTERS.open_h5_file_read('./MillionSongSubset/data/A/X/L/TRAXLZU12903D05F94.h5')\n",
    "GETTERS.get_segments_pitches(h5).shape"
   ]
  },
  {
   "cell_type": "code",
   "execution_count": 133,
   "metadata": {
    "collapsed": false
   },
   "outputs": [],
   "source": [
    "GETTERS.get_beats_start(h5).shape\n",
    "h5.close()"
   ]
  },
  {
   "cell_type": "markdown",
   "metadata": {},
   "source": [
    "## Fast k-NN using HDF5"
   ]
  },
  {
   "cell_type": "code",
   "execution_count": 134,
   "metadata": {
    "collapsed": false
   },
   "outputs": [
    {
     "data": {
      "text/html": [
       "<iframe src='http://labrosa.ee.columbia.edu/millionsong/pages/fast-k-nn-using-hdf5' width=1000 height=333></iframe>"
      ],
      "text/plain": [
       "<IPython.core.display.HTML object>"
      ]
     },
     "execution_count": 134,
     "metadata": {},
     "output_type": "execute_result"
    }
   ],
   "source": [
    "fast_knn_hdf5_url_src = \"http://labrosa.ee.columbia.edu/millionsong/pages/fast-k-nn-using-hdf5\"\n",
    "HTML(\"<iframe src='%s' width=1000 height=333></iframe>\"%fast_knn_hdf5_url_src)"
   ]
  },
  {
   "cell_type": "code",
   "execution_count": 137,
   "metadata": {
    "collapsed": true
   },
   "outputs": [],
   "source": [
    "!find -name *feats_year*.h5"
   ]
  },
  {
   "cell_type": "code",
   "execution_count": null,
   "metadata": {
    "collapsed": true
   },
   "outputs": [],
   "source": []
  }
 ],
 "metadata": {
  "kernelspec": {
   "display_name": "Python 2",
   "language": "python",
   "name": "python2"
  },
  "language_info": {
   "codemirror_mode": {
    "name": "ipython",
    "version": 2
   },
   "file_extension": ".py",
   "mimetype": "text/x-python",
   "name": "python",
   "nbconvert_exporter": "python",
   "pygments_lexer": "ipython2",
   "version": "2.7.9"
  }
 },
 "nbformat": 4,
 "nbformat_minor": 0
}

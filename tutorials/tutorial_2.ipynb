{
 "cells": [
  {
   "cell_type": "code",
   "execution_count": 1,
   "metadata": {
    "collapsed": true
   },
   "outputs": [],
   "source": [
    "from IPython.core.display import HTML"
   ]
  },
  {
   "cell_type": "code",
   "execution_count": 3,
   "metadata": {
    "collapsed": false
   },
   "outputs": [
    {
     "data": {
      "text/html": [
       "<iframe src='http://labrosa.ee.columbia.edu/millionsong/sites/default/files/tutorial3.pdf' width=1000 height=1000></iframe"
      ],
      "text/plain": [
       "<IPython.core.display.HTML object>"
      ]
     },
     "execution_count": 3,
     "metadata": {},
     "output_type": "execute_result"
    }
   ],
   "source": [
    "tutorial_url_src = \"http://labrosa.ee.columbia.edu/millionsong/sites/default/files/tutorial3.pdf\"\n",
    "HTML(\"<iframe src='%s' width=1000 height=1000></iframe\" % tutorial_url_src)"
   ]
  },
  {
   "cell_type": "code",
   "execution_count": 4,
   "metadata": {
    "collapsed": true
   },
   "outputs": [],
   "source": [
    "import os\n",
    "import sys\n",
    "import glob\n",
    "import time\n",
    "import datetime\n",
    "import numpy as np\n",
    "try:\n",
    "    import sqlite3\n",
    "except ImportError:\n",
    "    print 'you need sqlite3 installed to use this program'\n",
    "    sys.exit(0)"
   ]
  },
  {
   "cell_type": "markdown",
   "metadata": {},
   "source": [
    "# Helper Function to ensure string is proper to be used in a SQLite query"
   ]
  },
  {
   "cell_type": "code",
   "execution_count": 5,
   "metadata": {
    "collapsed": true
   },
   "outputs": [],
   "source": [
    "def encode_string(s):\n",
    "    \"\"\"\n",
    "    Simple utility function to make sure a string is proper\n",
    "    to be used in a SQLite query\n",
    "    \"\"\"\n",
    "    return \"'\"+sreplace(\"'\",\"''\") + \"'\""
   ]
  },
  {
   "cell_type": "code",
   "execution_count": 9,
   "metadata": {
    "collapsed": false
   },
   "outputs": [
    {
     "name": "stdout",
     "output_type": "stream",
     "text": [
      "create_artist_similarity_db.py\tdemo_track_metadata.py\r\n",
      "create_artist_terms_db.py\tlist_all_artists_from_db.py\r\n",
      "create_track_metadata_db.py\tlist_all_tracks_from_db.py\r\n",
      "demo_artist_similarity.py\tREADME.txt\r\n",
      "demo_artist_term.py\r\n"
     ]
    }
   ],
   "source": [
    "!ls MSongsDB/Tasks_Demos/SQLite"
   ]
  },
  {
   "cell_type": "markdown",
   "metadata": {},
   "source": [
    "# Connect to DB file"
   ]
  },
  {
   "cell_type": "code",
   "execution_count": 19,
   "metadata": {
    "collapsed": false
   },
   "outputs": [],
   "source": [
    "# PATH to track_metadata.db\n",
    "dbfile = 'MillionSongSubset/AdditionalFiles/subset_track_metadata.db'"
   ]
  },
  {
   "cell_type": "code",
   "execution_count": 20,
   "metadata": {
    "collapsed": false
   },
   "outputs": [
    {
     "name": "stdout",
     "output_type": "stream",
     "text": [
      "*************** GENERAL SQLITE DEMO ***************\n"
     ]
    }
   ],
   "source": [
    "conn = sqlite3.connect(dbfile)\n",
    "c = conn.cursor()\n",
    "\n",
    "TABLENAME = 'songs'\n",
    "\n",
    "print '*************** GENERAL SQLITE DEMO ***************'"
   ]
  },
  {
   "cell_type": "markdown",
   "metadata": {},
   "source": [
    "# Show songs table"
   ]
  },
  {
   "cell_type": "code",
   "execution_count": 21,
   "metadata": {
    "collapsed": false
   },
   "outputs": [
    {
     "name": "stdout",
     "output_type": "stream",
     "text": [
      "* tables contained in that SQLite file/database (should only be 'songs'):\n"
     ]
    }
   ],
   "source": [
    "q = \"SELECT name FROM sqlite_master WHERE type='table' ORDER BY name\"\n",
    "res = c.execute(q)\n",
    "print \"* tables contained in that SQLite file/database (should only be 'songs'):\""
   ]
  },
  {
   "cell_type": "code",
   "execution_count": 22,
   "metadata": {
    "collapsed": false
   },
   "outputs": [
    {
     "name": "stdout",
     "output_type": "stream",
     "text": [
      "[(u'songs',)]\n"
     ]
    }
   ],
   "source": [
    "print res.fetchall()"
   ]
  },
  {
   "cell_type": "code",
   "execution_count": 31,
   "metadata": {
    "collapsed": false
   },
   "outputs": [
    {
     "name": "stdout",
     "output_type": "stream",
     "text": [
      "* get info on column names (original table creation command):\n"
     ]
    }
   ],
   "source": [
    "q = \"SELECT name FROM sqlite_master WHERE tbl_name = 'songs' AND type = 'table' \"\n",
    "res = c.execute(q)\n",
    "print \"* get info on column names (original table creation command):\""
   ]
  },
  {
   "cell_type": "code",
   "execution_count": 32,
   "metadata": {
    "collapsed": false
   },
   "outputs": [
    {
     "name": "stdout",
     "output_type": "stream",
     "text": [
      "songs\n"
     ]
    }
   ],
   "source": [
    "print res.fetchall()[0][0]"
   ]
  },
  {
   "cell_type": "markdown",
   "metadata": {},
   "source": [
    "# List Indices"
   ]
  },
  {
   "cell_type": "code",
   "execution_count": 33,
   "metadata": {
    "collapsed": false
   },
   "outputs": [
    {
     "name": "stdout",
     "output_type": "stream",
     "text": [
      "* one of the index we added to the table to make things faster:\n",
      "(u'idx_artist_id',)\n"
     ]
    }
   ],
   "source": [
    "# list all the indices\n",
    "q = \"SELECT name FROM sqlite_master WHERE type='index' AND tbl_name='songs' ORDER BY name\"\n",
    "res = c.execute(q)\n",
    "print \"* one of the index we added to the table to make things faster:\"\n",
    "print res.fetchone()"
   ]
  },
  {
   "cell_type": "markdown",
   "metadata": {},
   "source": [
    "# Select Artists by name: The Beatles"
   ]
  },
  {
   "cell_type": "code",
   "execution_count": 36,
   "metadata": {
    "collapsed": false
   },
   "outputs": [
    {
     "name": "stdout",
     "output_type": "stream",
     "text": [
      "* get the primary key (ROWID) of one entry where the artist is The Beatles:\n"
     ]
    }
   ],
   "source": [
    "# find the primary key of the query\n",
    "# by default it's called ROWID, it would have be redefined if our primary key is type INTEGER\n",
    "q = \"SELECT ROWID FROM songs WHERE artist_name='The Beatles'\"\n",
    "res = c.execute(q)\n",
    "print \"* get the primary key (ROWID) of one entry where the artist is The Beatles:\""
   ]
  },
  {
   "cell_type": "code",
   "execution_count": 37,
   "metadata": {
    "collapsed": false
   },
   "outputs": [
    {
     "name": "stdout",
     "output_type": "stream",
     "text": [
      "(1040,)\n"
     ]
    }
   ],
   "source": [
    "print res.fetchone()"
   ]
  },
  {
   "cell_type": "code",
   "execution_count": 38,
   "metadata": {
    "collapsed": false
   },
   "outputs": [
    {
     "name": "stdout",
     "output_type": "stream",
     "text": [
      "* get all that we have about one track from The Beatles\n"
     ]
    }
   ],
   "source": [
    "q = \"SELECT * FROM songs WHERE artist_name='The Beatles' LIMIT 1\"\n",
    "res = c.execute(q)\n",
    "print \"* get all that we have about one track from The Beatles\" "
   ]
  },
  {
   "cell_type": "code",
   "execution_count": 40,
   "metadata": {
    "collapsed": false
   },
   "outputs": [
    {
     "name": "stdout",
     "output_type": "stream",
     "text": [
      "(u'TRAHSSO128EF347345', u'Derek Taylor - Introduction', u'SORTPSA12A67ADBFE2', u'Here There And Everywhere', u'AR6XZ861187FB4CECD', u'b10bbbfc-cf9e-42e0-be17-e2c3e1d2600d', u'The Beatles', 53.78567, 0.840409662154, 0.840462688027, 0)\n"
     ]
    }
   ],
   "source": [
    "print res.fetchone()"
   ]
  },
  {
   "cell_type": "markdown",
   "metadata": {},
   "source": [
    "# Demo Around Artist ID"
   ]
  },
  {
   "cell_type": "code",
   "execution_count": 44,
   "metadata": {
    "collapsed": false
   },
   "outputs": [
    {
     "name": "stdout",
     "output_type": "stream",
     "text": [
      "* found 3888 unique artist IDs, response looks like: \n"
     ]
    }
   ],
   "source": [
    "# query for all artists in Echo Nest ID\n",
    "# the column name is 'artist_id'\n",
    "# DISTINCT makes sures you only get each ID returned once\n",
    "q = \"SELECT DISTINCT artist_id FROM \" + TABLENAME\n",
    "res = c.execute(q)\n",
    "artists = res.fetchall() # does the actual job of searching the db\n",
    "\n",
    "print \"* found\", len(artists), \"unique artist IDs, response looks like: \""
   ]
  },
  {
   "cell_type": "code",
   "execution_count": 45,
   "metadata": {
    "collapsed": false
   },
   "outputs": [
    {
     "name": "stdout",
     "output_type": "stream",
     "text": [
      "[(u'AR009211187B989185',), (u'AR00A6H1187FB5402A',), (u'AR00LNI1187FB444A5',)]\n"
     ]
    }
   ],
   "source": [
    "print artists[:3]"
   ]
  },
  {
   "cell_type": "code",
   "execution_count": 48,
   "metadata": {
    "collapsed": false
   },
   "outputs": [
    {
     "name": "stdout",
     "output_type": "stream",
     "text": [
      "* one unique artist with some track (chose at random) associated with it:\n"
     ]
    }
   ],
   "source": [
    "# more cumbersome: get artist ID, but with one track ID for each\n",
    "# very useful, it gives you a HDF5 file to query if you \n",
    "# wish to have more information for each artist\n",
    "\n",
    "q = \"SELECT artist_id,track_id FROM songs GROUP BY artist_id\"\n",
    "res = c.execute(q)\n",
    "artist_track_pair = res.fetchone()\n",
    "print \"* one unique artist with some track (chose at random) associated with it:\""
   ]
  },
  {
   "cell_type": "code",
   "execution_count": 49,
   "metadata": {
    "collapsed": false
   },
   "outputs": [
    {
     "name": "stdout",
     "output_type": "stream",
     "text": [
      "(u'AR009211187B989185', u'TRBFYQS128F92E83A0')\n"
     ]
    }
   ],
   "source": [
    "print artist_track_pair"
   ]
  },
  {
   "cell_type": "code",
   "execution_count": 53,
   "metadata": {
    "collapsed": false
   },
   "outputs": [
    {
     "name": "stdout",
     "output_type": "stream",
     "text": [
      "* one artist that only has one track in the database\n"
     ]
    }
   ],
   "source": [
    "# get artists only having one track in the database\n",
    "q = \"SELECT artist_id, track_id FROM songs GROUP BY artist_id HAVING (COUNT(artist_id) = 1)\"\n",
    "q += \" ORDER BY RANDOM()\"\n",
    "res = c.execute(q)\n",
    "artist_track_pair = res.fetchone()\n",
    "print \"* one artist that only has one track in the database\""
   ]
  },
  {
   "cell_type": "code",
   "execution_count": 54,
   "metadata": {
    "collapsed": false
   },
   "outputs": [
    {
     "name": "stdout",
     "output_type": "stream",
     "text": [
      "(u'ARFIUBJ1241B9CA443', u'TRBFCKE12903CFA9DB')\n"
     ]
    }
   ],
   "source": [
    "print artist_track_pair"
   ]
  },
  {
   "cell_type": "code",
   "execution_count": 56,
   "metadata": {
    "collapsed": false
   },
   "outputs": [
    {
     "name": "stdout",
     "output_type": "stream",
     "text": [
      "* two track id from 'The Beatles,' found by looking up the artist by name:\n"
     ]
    }
   ],
   "source": [
    "# get artists with no musicbrainz ID\n",
    "# of course, we only w*nt once each artist\n",
    "# for demo purpose, we only ask for two at random\n",
    "q = \"SELECT artist_id, artist_mbid FROM songs WHERE artist_mbid=''\"\n",
    "q += \" GROUP BY artist_id ORDER BY RANDOM() LIMIT 2\"\n",
    "res = c.execute(q)\n",
    "print \"* two track id from 'The Beatles,' found by looking up the artist by name:\"\n"
   ]
  },
  {
   "cell_type": "code",
   "execution_count": 57,
   "metadata": {
    "collapsed": false
   },
   "outputs": [
    {
     "name": "stdout",
     "output_type": "stream",
     "text": [
      "[(u'ARTKOGW1241B9CD42B', u''), (u'ARMIQRB12298900AFB', u'')]\n"
     ]
    }
   ],
   "source": [
    "print res.fetchall()[:2]"
   ]
  },
  {
   "cell_type": "code",
   "execution_count": 58,
   "metadata": {
    "collapsed": false
   },
   "outputs": [
    {
     "name": "stdout",
     "output_type": "stream",
     "text": [
      "* one unique artist/release pair where album starts with capital T:\n"
     ]
    }
   ],
   "source": [
    "# we find all release starting by letter 'T'\n",
    "# T != t, we're just look at albums starting with T\n",
    "# here we use DISTINCT instead of GROUP BY artist_id \n",
    "# since it's fine we find twice the same artist, as long it is not the same (artist_id, release) pair\n",
    "q = \"SELECT DISTINCT artist_id, release FROM songs WHERE SUBSTR(release, 1, 1)='T'\"\n",
    "res = c.execute(q)\n",
    "print \"* one unique artist/release pair where album starts with capital T:\""
   ]
  },
  {
   "cell_type": "code",
   "execution_count": 59,
   "metadata": {
    "collapsed": false
   },
   "outputs": [
    {
     "name": "stdout",
     "output_type": "stream",
     "text": [
      "(u'AR009211187B989185', u'The Other Side of Love')\n"
     ]
    }
   ],
   "source": [
    "print res.fetchone()"
   ]
  },
  {
   "cell_type": "markdown",
   "metadata": {},
   "source": [
    "# Demo around Floats"
   ]
  },
  {
   "cell_type": "code",
   "execution_count": 60,
   "metadata": {
    "collapsed": false
   },
   "outputs": [
    {
     "name": "stdout",
     "output_type": "stream",
     "text": [
      "* one artist having familiarity >.8\n"
     ]
    }
   ],
   "source": [
    "# get all artists whose artist familiarity is > 0.8\n",
    "q = \"SELECT DISTINCT artist_name, artist_familiarity FROM songs WHERE artist_familiarity >.8\"\n",
    "res.execute(q)\n",
    "print \"* one artist having familiarity >.8\""
   ]
  },
  {
   "cell_type": "code",
   "execution_count": 61,
   "metadata": {
    "collapsed": false
   },
   "outputs": [
    {
     "name": "stdout",
     "output_type": "stream",
     "text": [
      "(u'Atreyu', 0.800283912372)\n"
     ]
    }
   ],
   "source": [
    "print res.fetchone()"
   ]
  },
  {
   "cell_type": "code",
   "execution_count": 64,
   "metadata": {
    "collapsed": false
   },
   "outputs": [
    {
     "ename": "OperationalError",
     "evalue": "no such column: artist_hotnnnesss",
     "output_type": "error",
     "traceback": [
      "\u001b[1;31m---------------------------------------------------------------------------\u001b[0m",
      "\u001b[1;31mOperationalError\u001b[0m                          Traceback (most recent call last)",
      "\u001b[1;32m<ipython-input-64-017514afeadc>\u001b[0m in \u001b[0;36m<module>\u001b[1;34m()\u001b[0m\n\u001b[0;32m      2\u001b[0m \u001b[0mq\u001b[0m \u001b[1;33m=\u001b[0m \u001b[1;34m\"SELECT DISTINCT artist_name , artist_familiarity as af , artist_hotnnnesss as ah\"\u001b[0m\u001b[1;33m\u001b[0m\u001b[0m\n\u001b[0;32m      3\u001b[0m \u001b[0mq\u001b[0m \u001b[1;33m+=\u001b[0m \u001b[1;34m\" FROM songs WHERE ah < 0 ORDER BY af\"\u001b[0m\u001b[1;33m\u001b[0m\u001b[0m\n\u001b[1;32m----> 4\u001b[1;33m \u001b[0mres\u001b[0m\u001b[1;33m.\u001b[0m\u001b[0mexecute\u001b[0m\u001b[1;33m(\u001b[0m\u001b[0mq\u001b[0m\u001b[1;33m)\u001b[0m\u001b[1;33m\u001b[0m\u001b[0m\n\u001b[0m",
      "\u001b[1;31mOperationalError\u001b[0m: no such column: artist_hotnnnesss"
     ]
    }
   ],
   "source": [
    "# select one artist with highest artist familiarity but no artist_hotnesss\n",
    "q = \"SELECT DISTINCT artist_name , artist_familiarity as af , artist_hotnnnesss as ah\"\n",
    "q += \" FROM songs WHERE ah < 0 ORDER BY af\"\n",
    "res.execute(q)"
   ]
  },
  {
   "cell_type": "code",
   "execution_count": null,
   "metadata": {
    "collapsed": true
   },
   "outputs": [],
   "source": []
  }
 ],
 "metadata": {
  "kernelspec": {
   "display_name": "Python 2",
   "language": "python",
   "name": "python2"
  },
  "language_info": {
   "codemirror_mode": {
    "name": "ipython",
    "version": 2
   },
   "file_extension": ".py",
   "mimetype": "text/x-python",
   "name": "python",
   "nbconvert_exporter": "python",
   "pygments_lexer": "ipython2",
   "version": "2.7.9"
  }
 },
 "nbformat": 4,
 "nbformat_minor": 0
}
